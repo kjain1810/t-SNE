{
 "cells": [
  {
   "cell_type": "code",
   "execution_count": 39,
   "id": "6cd12947",
   "metadata": {},
   "outputs": [
    {
     "name": "stdout",
     "output_type": "stream",
     "text": [
      "Populating the interactive namespace from numpy and matplotlib\n"
     ]
    },
    {
     "name": "stderr",
     "output_type": "stream",
     "text": [
      "/Users/samaykothari/Library/Python/3.8/lib/python/site-packages/IPython/core/magics/pylab.py:159: UserWarning: pylab import has clobbered these variables: ['matrix', 'square', 'test', 'sample']\n",
      "`%matplotlib` prevents importing * from pylab and numpy\n",
      "  warn(\"pylab import has clobbered these variables: %s\"  % clobbered +\n"
     ]
    }
   ],
   "source": [
    "%pylab inline"
   ]
  },
  {
   "cell_type": "code",
   "execution_count": 40,
   "id": "29e6e3ed",
   "metadata": {},
   "outputs": [],
   "source": [
    "def euclidianDistance(X):\n",
    "    squaredSum = np.sum(np.square(X), axis=1)\n",
    "    crossTerms = np.dot(sample, sample.T)\n",
    "    tempTerm = np.add(-2*crossTerms, squaredSum)\n",
    "    negDistance = -np.add(tempTerm.T, squaredSum)\n",
    "    return negDistance\n",
    "def exponentialAverage(X):\n",
    "    E_x = np.exp(X-np.max(X, axis=1).reshape([-1,1]))\n",
    "    np.fill_diagonal(E_x, 0.)\n",
    "    return E_x / E_x.sum(axis=1).reshape([-1,1])\n",
    "def probMatrix(distances, sigmas=None):\n",
    "    if sigmas is not None:\n",
    "        two_sig_sq = 2. * np.square(sigmas.reshape((-1, 1)))\n",
    "        return exponentialAverage(distances/two_sig_sq)\n",
    "    else:\n",
    "        return exponentialAverage(distances)"
   ]
  },
  {
   "cell_type": "code",
   "execution_count": 41,
   "id": "559d8174",
   "metadata": {},
   "outputs": [],
   "source": [
    "def binary_search(eval_fn, target, tol=1e-10, max_iter=10000,lower=1e-20, upper=1000.):\n",
    "    for i in range(max_iter):\n",
    "        guess = (lower + upper) / 2.\n",
    "        val = eval_fn(guess)\n",
    "        if val > target:\n",
    "            upper = guess\n",
    "        else:\n",
    "            lower = guess\n",
    "        if np.abs(val - target) <= tol:\n",
    "            break\n",
    "    return guess"
   ]
  },
  {
   "cell_type": "code",
   "execution_count": 42,
   "id": "5fbbbe09",
   "metadata": {},
   "outputs": [],
   "source": [
    "def calc_perplexity(prob_matrix):\n",
    "    \"\"\"Calculate the perplexity of each row \n",
    "    of a matrix of probabilities.\"\"\"\n",
    "    entropy = -np.sum(prob_matrix * np.log2(prob_matrix), 1)\n",
    "    perplexity = 2 ** entropy\n",
    "    return perplexity\n",
    "\n",
    "\n",
    "def perplexity(distances, sigmas):\n",
    "    \"\"\"Wrapper function for quick calculation of \n",
    "    perplexity over a distance matrix.\"\"\"\n",
    "    return calc_perplexity(calc_prob_matrix(distances, sigmas))\n",
    "\n",
    "\n",
    "def find_optimal_sigmas(distances, target_perplexity):\n",
    "    \"\"\"For each row of distances matrix, find sigma that results\n",
    "    in target perplexity for that role.\"\"\"\n",
    "    sigmas = [] \n",
    "    # For each row of the matrix (each point in our dataset)\n",
    "    for i in range(distances.shape[0]):\n",
    "        # Make fn that returns perplexity of this row given sigma\n",
    "        eval_fn = lambda sigma: \\\n",
    "            perplexity(distances[i:i+1, :], np.array(sigma))\n",
    "        # Binary search over sigmas to achieve target perplexity\n",
    "        correct_sigma = binary_search(eval_fn, target_perplexity)\n",
    "        # Append the resulting sigma to our output array\n",
    "        sigmas.append(correct_sigma)\n",
    "    return np.array(sigmas)"
   ]
  },
  {
   "cell_type": "code",
   "execution_count": null,
   "id": "ff835299",
   "metadata": {},
   "outputs": [],
   "source": [
    "def q_joint(Y):\n",
    "    \"\"\"Given low-dimensional representations Y, compute\n",
    "    matrix of joint probabilities with entries q_ij.\"\"\"\n",
    "    # Get the distances from every point to every other\n",
    "    distances = neg_squared_euc_dists(Y)\n",
    "    # Take the elementwise exponent\n",
    "    exp_distances = np.exp(distances)\n",
    "    # Fill diagonal with zeroes so q_ii = 0\n",
    "    np.fill_diagonal(exp_distances, 0.)\n",
    "    # Divide by the sum of the entire exponentiated matrix\n",
    "    return exp_distances / np.sum(exp_distances), None\n",
    "\n",
    "\n",
    "def p_conditional_to_joint(P):\n",
    "    \"\"\"Given conditional probabilities matrix P, return\n",
    "    approximation of joint distribution probabilities.\"\"\"\n",
    "    return (P + P.T) / (2. * P.shape[0])"
   ]
  },
  {
   "cell_type": "code",
   "execution_count": null,
   "id": "7332f092",
   "metadata": {},
   "outputs": [],
   "source": [
    "def p_joint(X, target_perplexity):\n",
    "    \"\"\"Given a data matrix X, gives joint probabilities matrix.\n",
    "\n",
    "    # Arguments\n",
    "        X: Input data matrix.\n",
    "    # Returns:\n",
    "        P: Matrix with entries p_ij = joint probabilities.\n",
    "    \"\"\"\n",
    "    # Get the negative euclidian distances matrix for our data\n",
    "    distances = neg_squared_euc_dists(X)\n",
    "    # Find optimal sigma for each row of this distances matrix\n",
    "    sigmas = find_optimal_sigmas(distances, target_perplexity)\n",
    "    # Calculate the probabilities based on these optimal sigmas\n",
    "    p_conditional = calc_prob_matrix(distances, sigmas)\n",
    "    # Go from conditional to joint probabilities matrix\n",
    "    P = p_conditional_to_joint(p_conditional)\n",
    "    return P"
   ]
  },
  {
   "cell_type": "code",
   "execution_count": null,
   "id": "37aab432",
   "metadata": {},
   "outputs": [],
   "source": []
  }
 ],
 "metadata": {
  "kernelspec": {
   "display_name": "Python 3",
   "language": "python",
   "name": "python3"
  },
  "language_info": {
   "codemirror_mode": {
    "name": "ipython",
    "version": 3
   },
   "file_extension": ".py",
   "mimetype": "text/x-python",
   "name": "python",
   "nbconvert_exporter": "python",
   "pygments_lexer": "ipython3",
   "version": "3.8.2"
  }
 },
 "nbformat": 4,
 "nbformat_minor": 5
}
